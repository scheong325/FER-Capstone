{
 "cells": [
  {
   "cell_type": "markdown",
   "metadata": {
    "papermill": {
     "duration": 0.020682,
     "end_time": "2020-10-08T08:21:31.277478",
     "exception": false,
     "start_time": "2020-10-08T08:21:31.256796",
     "status": "completed"
    },
    "tags": []
   },
   "source": [
    "# Facial Emotion Recogination"
   ]
  },
  {
   "cell_type": "markdown",
   "metadata": {
    "papermill": {
     "duration": 0.018517,
     "end_time": "2020-10-08T08:21:31.315915",
     "exception": false,
     "start_time": "2020-10-08T08:21:31.297398",
     "status": "completed"
    },
    "tags": []
   },
   "source": [
    "## Import libraries"
   ]
  },
  {
   "cell_type": "code",
   "execution_count": 1,
   "metadata": {
    "_cell_guid": "79c7e3d0-c299-4dcb-8224-4455121ee9b0",
    "_uuid": "d629ff2d2480ee46fbb7e2d37f6b5fab8052498a",
    "execution": {
     "iopub.execute_input": "2020-10-08T08:21:31.362590Z",
     "iopub.status.busy": "2020-10-08T08:21:31.361789Z",
     "iopub.status.idle": "2020-10-08T08:21:36.655156Z",
     "shell.execute_reply": "2020-10-08T08:21:36.655769Z"
    },
    "papermill": {
     "duration": 5.320742,
     "end_time": "2020-10-08T08:21:36.655995",
     "exception": false,
     "start_time": "2020-10-08T08:21:31.335253",
     "status": "completed"
    },
    "tags": []
   },
   "outputs": [],
   "source": [
    "import numpy as np\n",
    "import pandas as pd\n",
    "import os\n",
    "import tensorflow as tf\n",
    "from keras.models import Sequential\n",
    "from keras_preprocessing.image import ImageDataGenerator, load_img\n",
    "import cv2\n",
    "from keras.layers import Conv2D, Dense, BatchNormalization, Activation, Dropout, MaxPooling2D, Flatten\n",
    "from keras.optimizers import Adam, RMSprop, SGD\n",
    "from keras import regularizers\n",
    "import matplotlib.pyplot as plt\n",
    "from keras.utils import plot_model"
   ]
  },
  {
   "cell_type": "markdown",
   "metadata": {
    "papermill": {
     "duration": 0.030612,
     "end_time": "2020-10-08T08:21:36.728766",
     "exception": false,
     "start_time": "2020-10-08T08:21:36.698154",
     "status": "completed"
    },
    "tags": []
   },
   "source": [
    "## Import data"
   ]
  },
  {
   "cell_type": "code",
   "execution_count": 4,
   "metadata": {
    "execution": {
     "iopub.execute_input": "2020-10-08T08:21:36.803496Z",
     "iopub.status.busy": "2020-10-08T08:21:36.802537Z",
     "iopub.status.idle": "2020-10-08T08:21:37.272572Z",
     "shell.execute_reply": "2020-10-08T08:21:37.274101Z"
    },
    "papermill": {
     "duration": 0.514189,
     "end_time": "2020-10-08T08:21:37.274335",
     "exception": false,
     "start_time": "2020-10-08T08:21:36.760146",
     "status": "completed"
    },
    "tags": []
   },
   "outputs": [
    {
     "name": "stdout",
     "output_type": "stream",
     "text": [
      "            happy   sad  fear  surprise  neutral  angry  disgust\n",
      "train data   7215  4830  4097      3171     4965   3995      436\n",
      "           happy   sad  fear  surprise  neutral  angry  disgust\n",
      "test data   1774  1247  1024       831     1233    958      111\n"
     ]
    }
   ],
   "source": [
    "train_data_dir = '../FER-Capstone/data/train/'\n",
    "test_data_dir = '../FER-Capstone/data/test/'\n",
    "\n",
    "row, col = 48, 48\n",
    "classes = 7\n",
    "\n",
    "def count_exp(path, set_):\n",
    "    dict_ = {}\n",
    "    for expression in os.listdir(path):\n",
    "        dir_ = path + expression\n",
    "        dict_[expression] = len(os.listdir(dir_))\n",
    "    df = pd.DataFrame(dict_, index=[set_])\n",
    "    return df\n",
    "train_data_count = count_exp(train_data_dir, 'train data')\n",
    "test_data_count = count_exp(test_data_dir, 'test data')\n",
    "print(train_data_count)\n",
    "print(test_data_count)"
   ]
  },
  {
   "cell_type": "markdown",
   "metadata": {
    "papermill": {
     "duration": 0.023055,
     "end_time": "2020-10-08T08:21:37.330149",
     "exception": false,
     "start_time": "2020-10-08T08:21:37.307094",
     "status": "completed"
    },
    "tags": []
   },
   "source": [
    "### Bar chart for emotion images in train data"
   ]
  },
  {
   "cell_type": "code",
   "execution_count": 5,
   "metadata": {
    "execution": {
     "iopub.execute_input": "2020-10-08T08:21:37.376264Z",
     "iopub.status.busy": "2020-10-08T08:21:37.375439Z",
     "iopub.status.idle": "2020-10-08T08:21:37.614326Z",
     "shell.execute_reply": "2020-10-08T08:21:37.614889Z"
    },
    "papermill": {
     "duration": 0.264281,
     "end_time": "2020-10-08T08:21:37.615048",
     "exception": false,
     "start_time": "2020-10-08T08:21:37.350767",
     "status": "completed"
    },
    "tags": []
   },
   "outputs": [
    {
     "data": {
      "text/plain": [
       "<AxesSubplot:>"
      ]
     },
     "execution_count": 5,
     "metadata": {},
     "output_type": "execute_result"
    },
    {
     "data": {
      "image/png": "[encoded data removed]",
      "text/plain": [
       "<Figure size 720x720 with 1 Axes>"
      ]
     },
     "metadata": {
      "needs_background": "light"
     },
     "output_type": "display_data"
    }
   ],
   "source": [
    "train_data_count.transpose().plot(kind='bar', figsize=(10,10))"
   ]
  },
  {
   "cell_type": "markdown",
   "metadata": {
    "papermill": {
     "duration": 0.024904,
     "end_time": "2020-10-08T08:21:37.663929",
     "exception": false,
     "start_time": "2020-10-08T08:21:37.639025",
     "status": "completed"
    },
    "tags": []
   },
   "source": [
    "### Bar chart for emotion images in test data"
   ]
  },
  {
   "cell_type": "code",
   "execution_count": 6,
   "metadata": {
    "execution": {
     "iopub.execute_input": "2020-10-08T08:21:37.732537Z",
     "iopub.status.busy": "2020-10-08T08:21:37.719845Z",
     "iopub.status.idle": "2020-10-08T08:21:37.890761Z",
     "shell.execute_reply": "2020-10-08T08:21:37.891399Z"
    },
    "papermill": {
     "duration": 0.203638,
     "end_time": "2020-10-08T08:21:37.891561",
     "exception": false,
     "start_time": "2020-10-08T08:21:37.687923",
     "status": "completed"
    },
    "tags": []
   },
   "outputs": [
    {
     "data": {
      "text/plain": [
       "<AxesSubplot:>"
      ]
     },
     "execution_count": 6,
     "metadata": {},
     "output_type": "execute_result"
    },
    {
     "data": {
      "image/png": "[encoded data removed]",
      "text/plain": [
       "<Figure size 720x720 with 1 Axes>"
      ]
     },
     "metadata": {
      "needs_background": "light"
     },
     "output_type": "display_data"
    }
   ],
   "source": [
    "test_data_count.transpose().plot(kind='bar', figsize=(10,10))"
   ]
  },
  {
   "cell_type": "markdown",
   "metadata": {},
   "source": [
    "### Examples of emotion images in dataset"
   ]
  },
  {
   "cell_type": "code",
   "execution_count": 7,
   "metadata": {
    "execution": {
     "iopub.execute_input": "2020-10-08T08:21:37.950459Z",
     "iopub.status.busy": "2020-10-08T08:21:37.949497Z",
     "iopub.status.idle": "2020-10-08T08:21:38.407738Z",
     "shell.execute_reply": "2020-10-08T08:21:38.406799Z"
    },
    "papermill": {
     "duration": 0.490337,
     "end_time": "2020-10-08T08:21:38.407869",
     "exception": false,
     "start_time": "2020-10-08T08:21:37.917532",
     "status": "completed"
    },
    "tags": []
   },
   "outputs": [
    {
     "data": {
      "image/png": "[encoded data removed]",
      "text/plain": [
       "<Figure size 1008x1584 with 7 Axes>"
      ]
     },
     "metadata": {
      "needs_background": "light"
     },
     "output_type": "display_data"
    }
   ],
   "source": [
    "plt.figure(figsize=(14,22))\n",
    "i = 1\n",
    "for expression in os.listdir(train_data_dir):\n",
    "    img = load_img((train_data_dir + expression +'/'+ os.listdir(train_data_dir + expression)[1]))\n",
    "    plt.subplot(1,7,i)\n",
    "    plt.imshow(img)\n",
    "    plt.title(expression)\n",
    "    plt.axis('off')\n",
    "    i += 1\n",
    "plt.show()"
   ]
  },
  {
   "cell_type": "markdown",
   "metadata": {
    "papermill": {
     "duration": 0.024558,
     "end_time": "2020-10-08T08:21:38.457547",
     "exception": false,
     "start_time": "2020-10-08T08:21:38.432989",
     "status": "completed"
    },
    "tags": []
   },
   "source": [
    "## Create Training and test datasets"
   ]
  },
  {
   "cell_type": "code",
   "execution_count": 8,
   "metadata": {
    "execution": {
     "iopub.execute_input": "2020-10-08T08:21:38.515057Z",
     "iopub.status.busy": "2020-10-08T08:21:38.514279Z",
     "iopub.status.idle": "2020-10-08T08:21:44.499528Z",
     "shell.execute_reply": "2020-10-08T08:21:44.499002Z"
    },
    "papermill": {
     "duration": 6.016879,
     "end_time": "2020-10-08T08:21:44.499643",
     "exception": false,
     "start_time": "2020-10-08T08:21:38.482764",
     "status": "completed"
    },
    "tags": []
   },
   "outputs": [
    {
     "name": "stdout",
     "output_type": "stream",
     "text": [
      "Found 28709 images belonging to 7 classes.\n",
      "Found 7178 images belonging to 7 classes.\n"
     ]
    }
   ],
   "source": [
    "train_data_generator = ImageDataGenerator(rescale=1./255,\n",
    "                                   zoom_range=0.3,\n",
    "                                   horizontal_flip=True)\n",
    "\n",
    "training_set = train_data_generator.flow_from_directory(train_data_dir,\n",
    "                                                batch_size=64,\n",
    "                                                target_size=(48,48),\n",
    "                                                shuffle=True,\n",
    "                                                color_mode='grayscale',\n",
    "                                                class_mode='categorical')\n",
    "\n",
    "test_data_generator = ImageDataGenerator(rescale=1./255)\n",
    "test_set = test_data_generator.flow_from_directory(test_data_dir,\n",
    "                                                batch_size=64,\n",
    "                                                target_size=(48,48),\n",
    "                                                shuffle=True,\n",
    "                                                color_mode='grayscale',\n",
    "                                                class_mode='categorical')"
   ]
  },
  {
   "cell_type": "code",
   "execution_count": 23,
   "metadata": {
    "execution": {
     "iopub.execute_input": "2020-10-08T08:21:44.557938Z",
     "iopub.status.busy": "2020-10-08T08:21:44.557063Z",
     "iopub.status.idle": "2020-10-08T08:21:44.561222Z",
     "shell.execute_reply": "2020-10-08T08:21:44.560739Z"
    },
    "papermill": {
     "duration": 0.03518,
     "end_time": "2020-10-08T08:21:44.561327",
     "exception": false,
     "start_time": "2020-10-08T08:21:44.526147",
     "status": "completed"
    },
    "tags": []
   },
   "outputs": [
    {
     "data": {
      "text/plain": [
       "{'angry': 0,\n",
       " 'disgust': 1,\n",
       " 'fear': 2,\n",
       " 'happy': 3,\n",
       " 'neutral': 4,\n",
       " 'sad': 5,\n",
       " 'surprise': 6}"
      ]
     },
     "execution_count": 23,
     "metadata": {},
     "output_type": "execute_result"
    }
   ],
   "source": [
    "training_set.class_indices"
   ]
  },
  {
   "cell_type": "markdown",
   "metadata": {
    "papermill": {
     "duration": 0.025515,
     "end_time": "2020-10-08T08:21:44.612280",
     "exception": false,
     "start_time": "2020-10-08T08:21:44.586765",
     "status": "completed"
    },
    "tags": []
   },
   "source": [
    "## Constructure Model"
   ]
  },
  {
   "cell_type": "code",
   "execution_count": 24,
   "metadata": {
    "execution": {
     "iopub.execute_input": "2020-10-08T08:21:44.681352Z",
     "iopub.status.busy": "2020-10-08T08:21:44.680378Z",
     "iopub.status.idle": "2020-10-08T08:21:44.683419Z",
     "shell.execute_reply": "2020-10-08T08:21:44.682923Z"
    },
    "papermill": {
     "duration": 0.045419,
     "end_time": "2020-10-08T08:21:44.683519",
     "exception": false,
     "start_time": "2020-10-08T08:21:44.638100",
     "status": "completed"
    },
    "tags": []
   },
   "outputs": [
    {
     "name": "stderr",
     "output_type": "stream",
     "text": [
      "c:\\Users\\Grace\\miniconda3\\envs\\tf\\lib\\site-packages\\keras\\optimizers\\optimizer_v2\\adam.py:110: UserWarning: The `lr` argument is deprecated, use `learning_rate` instead.\n",
      "  super(Adam, self).__init__(name, **kwargs)\n"
     ]
    }
   ],
   "source": [
    "model = Sequential()   \n",
    "\n",
    "model.add(Conv2D(32, kernel_size=(3, 3), padding='same', activation='relu', input_shape=(48,48,1)))\n",
    "model.add(Conv2D(64, kernel_size=(3, 3), activation='relu', padding='same'))\n",
    "model.add(BatchNormalization())\n",
    "model.add(MaxPooling2D(2, 2))\n",
    "model.add(Dropout(0.25))\n",
    "\n",
    "model.add(Conv2D(128, kernel_size=(3, 3), activation='relu', padding='same', kernel_regularizer=regularizers.l2(0.01)))\n",
    "model.add(Conv2D(256, kernel_size=(3, 3), activation='relu', kernel_regularizer=regularizers.l2(0.01)))\n",
    "model.add(BatchNormalization())\n",
    "model.add(MaxPooling2D(pool_size=(2, 2)))\n",
    "model.add(Dropout(0.25))\n",
    "\n",
    "model.add(Flatten())\n",
    "model.add(Dense(1024, activation='relu'))\n",
    "model.add(Dropout(0.5))\n",
    "    \n",
    "model.add(Dense(classes, activation='softmax'))\n",
    "\n",
    "model.compile(optimizer=Adam(lr=0.0001, decay=1e-6), \n",
    "                loss='categorical_crossentropy', \n",
    "                metrics=['accuracy'])"
   ]
  },
  {
   "cell_type": "markdown",
   "metadata": {
    "papermill": {
     "duration": 0.029194,
     "end_time": "2020-10-08T08:21:48.768485",
     "exception": false,
     "start_time": "2020-10-08T08:21:48.739291",
     "status": "completed"
    },
    "tags": []
   },
   "source": [
    "## Training Model"
   ]
  },
  {
   "cell_type": "code",
   "execution_count": null,
   "metadata": {
    "execution": {
     "iopub.execute_input": "2020-10-08T08:21:48.836175Z",
     "iopub.status.busy": "2020-10-08T08:21:48.835472Z",
     "iopub.status.idle": "2020-10-08T09:03:29.511581Z",
     "shell.execute_reply": "2020-10-08T09:03:29.510961Z"
    },
    "papermill": {
     "duration": 2500.711354,
     "end_time": "2020-10-08T09:03:29.511710",
     "exception": false,
     "start_time": "2020-10-08T08:21:48.800356",
     "status": "completed"
    },
    "tags": []
   },
   "outputs": [],
   "source": [
    "steps_per_epoch = training_set.n // training_set.batch_size\n",
    "validation_steps = test_set.n // test_set.batch_size\n",
    "hist = model.fit(x=training_set,\n",
    "                 validation_data=test_set,\n",
    "                 epochs=60,\n",
    "                 steps_per_epoch=steps_per_epoch,\n",
    "                 validation_steps=validation_steps)"
   ]
  },
  {
   "cell_type": "markdown",
   "metadata": {
    "papermill": {
     "duration": 10.924119,
     "end_time": "2020-10-08T09:03:51.155021",
     "exception": false,
     "start_time": "2020-10-08T09:03:40.230902",
     "status": "completed"
    },
    "tags": []
   },
   "source": [
    "## Loss and Accuracy plot"
   ]
  },
  {
   "cell_type": "code",
   "execution_count": null,
   "metadata": {
    "execution": {
     "iopub.execute_input": "2020-10-08T09:04:13.368739Z",
     "iopub.status.busy": "2020-10-08T09:04:13.360682Z",
     "iopub.status.idle": "2020-10-08T09:04:13.705368Z",
     "shell.execute_reply": "2020-10-08T09:04:13.705946Z"
    },
    "papermill": {
     "duration": 11.065454,
     "end_time": "2020-10-08T09:04:13.706115",
     "exception": false,
     "start_time": "2020-10-08T09:04:02.640661",
     "status": "completed"
    },
    "tags": []
   },
   "outputs": [],
   "source": [
    "plt.figure(figsize=(14,5))\n",
    "plt.subplot(1,2,2)\n",
    "plt.plot(hist.history['accuracy'])\n",
    "plt.plot(hist.history['val_accuracy'])\n",
    "plt.title('Model Accuracy')\n",
    "plt.xlabel('Epochs')\n",
    "plt.ylabel('Accuracy')\n",
    "plt.legend(['train', 'test'], loc='upper left')\n",
    "\n",
    "plt.subplot(1,2,1)\n",
    "plt.plot(hist.history['loss'])\n",
    "plt.plot(hist.history['val_loss'])\n",
    "plt.title('model Loss')\n",
    "plt.xlabel('Epochs')\n",
    "plt.ylabel('Loss')\n",
    "plt.legend(['train', 'test'], loc='upper left')\n",
    "plt.show()"
   ]
  },
  {
   "cell_type": "markdown",
   "metadata": {
    "papermill": {
     "duration": 10.631613,
     "end_time": "2020-10-08T09:04:35.200516",
     "exception": false,
     "start_time": "2020-10-08T09:04:24.568903",
     "status": "completed"
    },
    "tags": []
   },
   "source": [
    "high accracy is achieved on training set but accuracy on validation set is stuck at 66% also no overfitting can se seen in the dataset hence is can be concluded that the inefficiency may be due to the unbalanced dataset"
   ]
  },
  {
   "cell_type": "markdown",
   "metadata": {
    "papermill": {
     "duration": 11.092708,
     "end_time": "2020-10-08T09:04:56.961972",
     "exception": false,
     "start_time": "2020-10-08T09:04:45.869264",
     "status": "completed"
    },
    "tags": []
   },
   "source": [
    "### Model evaluation"
   ]
  },
  {
   "cell_type": "code",
   "execution_count": null,
   "metadata": {
    "execution": {
     "iopub.execute_input": "2020-10-08T09:05:19.256938Z",
     "iopub.status.busy": "2020-10-08T09:05:19.256248Z",
     "iopub.status.idle": "2020-10-08T09:05:54.067354Z",
     "shell.execute_reply": "2020-10-08T09:05:54.066292Z"
    },
    "papermill": {
     "duration": 45.661739,
     "end_time": "2020-10-08T09:05:54.067516",
     "exception": false,
     "start_time": "2020-10-08T09:05:08.405777",
     "status": "completed"
    },
    "tags": []
   },
   "outputs": [],
   "source": [
    "train_loss, train_accu = model.evaluate(training_set) #Evaluates train data for accuracy and loss \n",
    "test_loss, test_accu = model.evaluate(test_set) #Evaluates test data for accuracy and loss \n",
    "print(\"final train accuracy = {:.2f} , validation accuracy = {:.2f}\".format(train_accu*100, test_accu*100))"
   ]
  },
  {
   "cell_type": "markdown",
   "metadata": {},
   "source": [
    "### Serialize the model to JSON and save the model weights"
   ]
  },
  {
   "cell_type": "code",
   "execution_count": null,
   "metadata": {
    "execution": {
     "iopub.execute_input": "2020-10-08T09:06:17.775174Z",
     "iopub.status.busy": "2020-10-08T09:06:17.774051Z",
     "iopub.status.idle": "2020-10-08T09:06:18.048124Z",
     "shell.execute_reply": "2020-10-08T09:06:18.047464Z"
    },
    "papermill": {
     "duration": 11.722198,
     "end_time": "2020-10-08T09:06:18.048261",
     "exception": false,
     "start_time": "2020-10-08T09:06:06.326063",
     "status": "completed"
    },
    "tags": []
   },
   "outputs": [],
   "source": [
    "model_json = model.to_json()\n",
    "with open(\"model_structure.json\", \"w\") as json_file:\n",
    "    json_file.write(model_json)\n",
    "model.save_weights(\"model_weights.h5\")"
   ]
  },
  {
   "cell_type": "markdown",
   "metadata": {},
   "source": [
    "### Import model weight and haar cascade file"
   ]
  },
  {
   "cell_type": "code",
   "execution_count": null,
   "metadata": {},
   "outputs": [],
   "source": [
    "from keras.models import model_from_json\n",
    "from PIL import Image\n",
    "model = model_from_json(open(\"model_structure.json\", \"r\").read())\n",
    "model.load_weights('model_weights.h5')\n",
    "face_haar_cascade = cv2.CascadeClassifier(cv2.data.haarcascades + 'haarcascade_frontalface_default.xml')"
   ]
  }
 ],
 "metadata": {
  "kernelspec": {
   "display_name": "Python 3.9.13 ('base')",
   "language": "python",
   "name": "python3"
  },
  "language_info": {
   "codemirror_mode": {
    "name": "ipython",
    "version": 3
   },
   "file_extension": ".py",
   "mimetype": "text/x-python",
   "name": "python",
   "nbconvert_exporter": "python",
   "pygments_lexer": "ipython3",
   "version": "3.9.13"
  },
  "papermill": {
   "duration": 2830.346368,
   "end_time": "2020-10-08T09:08:37.334816",
   "environment_variables": {},
   "exception": null,
   "input_path": "__notebook__.ipynb",
   "output_path": "__notebook__.ipynb",
   "parameters": {},
   "start_time": "2020-10-08T08:21:26.988448",
   "version": "2.1.0"
  },
  "vscode": {
   "interpreter": {
    "hash": "3d61519eac47c12f80bb30ee3c054f81b7f8d036feac3381064eae7f63faac82"
   }
  }
 },
 "nbformat": 4,
 "nbformat_minor": 4
}
